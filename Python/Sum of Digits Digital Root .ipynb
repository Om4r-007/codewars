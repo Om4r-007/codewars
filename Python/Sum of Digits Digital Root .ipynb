{
 "cells": [
  {
   "cell_type": "code",
   "execution_count": 10,
   "metadata": {},
   "outputs": [
    {
     "data": {
      "text/plain": [
       "2"
      ]
     },
     "execution_count": 10,
     "metadata": {},
     "output_type": "execute_result"
    }
   ],
   "source": [
    "def digital_root(n):\n",
    "    number_str = str(n)\n",
    "    digit_sum = 0\n",
    "    for char in number_str :\n",
    "     digit_sum += int(char)\n",
    "\n",
    "    if digit_sum >= 10 :\n",
    "        return digital_root(digit_sum)\n",
    "    else :\n",
    "        return digit_sum\n",
    "    \n",
    "digital_root(493193)"
   ]
  }
 ],
 "metadata": {
  "kernelspec": {
   "display_name": "base",
   "language": "python",
   "name": "python3"
  },
  "language_info": {
   "codemirror_mode": {
    "name": "ipython",
    "version": 3
   },
   "file_extension": ".py",
   "mimetype": "text/x-python",
   "name": "python",
   "nbconvert_exporter": "python",
   "pygments_lexer": "ipython3",
   "version": "3.11.5"
  }
 },
 "nbformat": 4,
 "nbformat_minor": 2
}
