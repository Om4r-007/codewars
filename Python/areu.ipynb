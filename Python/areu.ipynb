{
 "cells": [
  {
   "cell_type": "code",
   "execution_count": 9,
   "metadata": {},
   "outputs": [
    {
     "name": "stdout",
     "output_type": "stream",
     "text": [
      "['09:30', '10:15']\n",
      "['12:20', '15:50']\n"
     ]
    }
   ],
   "source": [
    "schedule = [[\"09:30\", \"10:15\"], [\"12:20\", \"15:50\"]]\n",
    "start = schedule[0]\n",
    "finish = schedule[1]\n",
    "print(start)\n",
    "print(finish)"
   ]
  },
  {
   "cell_type": "code",
   "execution_count": 13,
   "metadata": {},
   "outputs": [],
   "source": [
    "def check(schedule , current_time):\n",
    "    for tb , te in schedule :\n",
    "        if tb <= current_time <= te:\n",
    "            return te\n",
    "        else :\n",
    "            return True"
   ]
  },
  {
   "cell_type": "code",
   "execution_count": 15,
   "metadata": {},
   "outputs": [
    {
     "data": {
      "text/plain": [
       "'10:15'"
      ]
     },
     "execution_count": 15,
     "metadata": {},
     "output_type": "execute_result"
    }
   ],
   "source": [
    "check ([[\"09:30\", \"10:15\"], [\"12:20\", \"15:50\"]], \"09:35\")"
   ]
  },
  {
   "cell_type": "code",
   "execution_count": 18,
   "metadata": {},
   "outputs": [
    {
     "name": "stdout",
     "output_type": "stream",
     "text": [
      "09:30\n",
      "12:20\n"
     ]
    }
   ],
   "source": [
    "schedule = [[\"09:30\", \"10:15\"], [\"12:20\", \"15:50\"]]\n",
    "for s , f in schedule :\n",
    "    print(s)\n"
   ]
  },
  {
   "cell_type": "code",
   "execution_count": null,
   "metadata": {},
   "outputs": [],
   "source": []
  }
 ],
 "metadata": {
  "kernelspec": {
   "display_name": "base",
   "language": "python",
   "name": "python3"
  },
  "language_info": {
   "codemirror_mode": {
    "name": "ipython",
    "version": 3
   },
   "file_extension": ".py",
   "mimetype": "text/x-python",
   "name": "python",
   "nbconvert_exporter": "python",
   "pygments_lexer": "ipython3",
   "version": "3.11.5"
  }
 },
 "nbformat": 4,
 "nbformat_minor": 2
}
