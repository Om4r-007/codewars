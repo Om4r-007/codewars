{
 "cells": [
  {
   "cell_type": "code",
   "execution_count": 6,
   "metadata": {},
   "outputs": [
    {
     "data": {
      "text/plain": [
       "86"
      ]
     },
     "execution_count": 6,
     "metadata": {},
     "output_type": "execute_result"
    }
   ],
   "source": [
    "def predict_age(age_1, age_2, age_3, age_4, age_5, age_6, age_7, age_8):\n",
    "    numbers = [age_1, age_2, age_3, age_4, age_5, age_6, age_7, age_8]\n",
    "    result = 0\n",
    "    \n",
    "    for num in numbers:\n",
    "        result += num ** 2\n",
    "    \n",
    "    result2 = result ** 0.5\n",
    "    result3 = result2 / 2\n",
    "    result4 = int(result3)\n",
    "    return result4 \n",
    "\n",
    "predict_age(65,60,75,55,60,63,64,45)"
   ]
  }
 ],
 "metadata": {
  "kernelspec": {
   "display_name": "base",
   "language": "python",
   "name": "python3"
  },
  "language_info": {
   "codemirror_mode": {
    "name": "ipython",
    "version": 3
   },
   "file_extension": ".py",
   "mimetype": "text/x-python",
   "name": "python",
   "nbconvert_exporter": "python",
   "pygments_lexer": "ipython3",
   "version": "3.11.5"
  }
 },
 "nbformat": 4,
 "nbformat_minor": 2
}
